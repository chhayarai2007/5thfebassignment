{
 "cells": [
  {
   "cell_type": "markdown",
   "id": "1be33a86-cbd4-4166-a223-b01fca358475",
   "metadata": {},
   "source": [
    "Q1. Explain Class and Object with respect to Object-Oriented Programming. Give a suitable example.\n",
    "\n",
    "Q2. Name the four pillars of OOPs. \n",
    "\n",
    "ans:-there are four(4) basic principles for writing clean and concise code.\n",
    "These principles are called the four pillars of object-oriented programming (OOP).\n",
    "These four pillars are Inheritance, Polymorphism, Encapsulation and Abstraction."
   ]
  },
  {
   "cell_type": "markdown",
   "id": "243cbe08-4548-4117-906a-1070fa41ea23",
   "metadata": {},
   "source": [
    "Q3. Explain why the __init__() function is used. Give a suitable example. \n",
    "\n",
    "ans:-__init__ is a special python method that runs whenever a new object is created. \n",
    "These types of functions are used to initialize the attributes of that class,"
   ]
  },
  {
   "cell_type": "markdown",
   "id": "2385274e-29c3-4e46-a657-4e1ef35463c4",
   "metadata": {},
   "source": [
    "Q4. Why self is used in OOPs? \n",
    "ans:-he self variable is used to represent the instance of the class which is often used in object-oriented programming. \n",
    "It works as a reference to the object. \n",
    "Python uses the self parameter to refer to instance attributes and methods of the class."
   ]
  },
  {
   "cell_type": "markdown",
   "id": "2b4259c8-039f-4b5f-8a7a-b4b243a80865",
   "metadata": {},
   "source": [
    "Q5. What is inheritance? Give an example for each type of inheritance. \n",
    "ans;-Different Types of Inheritance\n",
    "Single inheritance.\n",
    "Multi-level inheritance.\n",
    "Multiple inheritance.\n",
    "Multipath inheritance.\n",
    "Hierarchical Inheritance.\n",
    "Hybrid Inheritance."
   ]
  }
 ],
 "metadata": {
  "kernelspec": {
   "display_name": "Python 3 (ipykernel)",
   "language": "python",
   "name": "python3"
  },
  "language_info": {
   "codemirror_mode": {
    "name": "ipython",
    "version": 3
   },
   "file_extension": ".py",
   "mimetype": "text/x-python",
   "name": "python",
   "nbconvert_exporter": "python",
   "pygments_lexer": "ipython3",
   "version": "3.10.8"
  }
 },
 "nbformat": 4,
 "nbformat_minor": 5
}
